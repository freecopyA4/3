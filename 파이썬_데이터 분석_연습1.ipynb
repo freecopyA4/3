{
 "cells": [
  {
   "cell_type": "markdown",
   "metadata": {},
   "source": [
    "1.\n",
    "\n",
    " "
   ]
  },
  {
   "cell_type": "code",
   "execution_count": 5,
   "metadata": {},
   "outputs": [
    {
     "name": "stderr",
     "output_type": "stream",
     "text": [
      "C:\\Users\\noctu\\AppData\\Local\\Temp\\ipykernel_20336\\1173853495.py:13: ParserWarning: Falling back to the 'python' engine because the 'c' engine does not support regex separators (separators > 1 char and different from '\\s+' are interpreted as regex); you can avoid this warning by specifying engine='python'.\n",
      "  users = pd.read_csv(upath, sep='::', header=None, names=unames, encoding=encoding)\n",
      "C:\\Users\\noctu\\AppData\\Local\\Temp\\ipykernel_20336\\1173853495.py:14: ParserWarning: Falling back to the 'python' engine because the 'c' engine does not support regex separators (separators > 1 char and different from '\\s+' are interpreted as regex); you can avoid this warning by specifying engine='python'.\n",
      "  ratings = pd.read_csv(rpath, sep='::', header=None, names=rnames, encoding=encoding)\n",
      "C:\\Users\\noctu\\AppData\\Local\\Temp\\ipykernel_20336\\1173853495.py:15: ParserWarning: Falling back to the 'python' engine because the 'c' engine does not support regex separators (separators > 1 char and different from '\\s+' are interpreted as regex); you can avoid this warning by specifying engine='python'.\n",
      "  movies = pd.read_csv(mpath, sep='::', header=None, names=mnames, encoding=encoding )\n"
     ]
    },
    {
     "ename": "TypeError",
     "evalue": "sort_values() missing 1 required positional argument: 'by'",
     "output_type": "error",
     "traceback": [
      "\u001b[1;31m---------------------------------------------------------------------------\u001b[0m",
      "\u001b[1;31mTypeError\u001b[0m                                 Traceback (most recent call last)",
      "\u001b[1;32mc:\\Users\\noctu\\Desktop\\python\\파이썬_데이터 분석_연습1.ipynb Cell 2'\u001b[0m in \u001b[0;36m<module>\u001b[1;34m\u001b[0m\n\u001b[0;32m     <a href='vscode-notebook-cell:/c%3A/Users/noctu/Desktop/python/%ED%8C%8C%EC%9D%B4%EC%8D%AC_%EB%8D%B0%EC%9D%B4%ED%84%B0%20%EB%B6%84%EC%84%9D_%EC%97%B0%EC%8A%B51.ipynb#ch0000001?line=33'>34</a>\u001b[0m top_female_ratings[:\u001b[39m10\u001b[39m]\n\u001b[0;32m     <a href='vscode-notebook-cell:/c%3A/Users/noctu/Desktop/python/%ED%8C%8C%EC%9D%B4%EC%8D%AC_%EB%8D%B0%EC%9D%B4%ED%84%B0%20%EB%B6%84%EC%84%9D_%EC%97%B0%EC%8A%B51.ipynb#ch0000001?line=35'>36</a>\u001b[0m mean_ratings[\u001b[39m'\u001b[39m\u001b[39mdiff\u001b[39m\u001b[39m'\u001b[39m] \u001b[39m=\u001b[39m mean_ratings[\u001b[39m'\u001b[39m\u001b[39mM\u001b[39m\u001b[39m'\u001b[39m] \u001b[39m-\u001b[39m mean_ratings[\u001b[39m'\u001b[39m\u001b[39mF\u001b[39m\u001b[39m'\u001b[39m]\n\u001b[1;32m---> <a href='vscode-notebook-cell:/c%3A/Users/noctu/Desktop/python/%ED%8C%8C%EC%9D%B4%EC%8D%AC_%EB%8D%B0%EC%9D%B4%ED%84%B0%20%EB%B6%84%EC%84%9D_%EC%97%B0%EC%8A%B51.ipynb#ch0000001?line=36'>37</a>\u001b[0m sorted_by_diff \u001b[39m=\u001b[39m mean_ratings\u001b[39m.\u001b[39;49msort_values()  \u001b[39m#by='diff'\u001b[39;00m\n\u001b[0;32m     <a href='vscode-notebook-cell:/c%3A/Users/noctu/Desktop/python/%ED%8C%8C%EC%9D%B4%EC%8D%AC_%EB%8D%B0%EC%9D%B4%ED%84%B0%20%EB%B6%84%EC%84%9D_%EC%97%B0%EC%8A%B51.ipynb#ch0000001?line=37'>38</a>\u001b[0m sorted_by_diff[:\u001b[39m15\u001b[39m]\n\u001b[0;32m     <a href='vscode-notebook-cell:/c%3A/Users/noctu/Desktop/python/%ED%8C%8C%EC%9D%B4%EC%8D%AC_%EB%8D%B0%EC%9D%B4%ED%84%B0%20%EB%B6%84%EC%84%9D_%EC%97%B0%EC%8A%B51.ipynb#ch0000001?line=39'>40</a>\u001b[0m sorted_by_diff[::\u001b[39m-\u001b[39m\u001b[39m1\u001b[39m][:\u001b[39m15\u001b[39m]\n",
      "File \u001b[1;32m~\\AppData\\Local\\Packages\\PythonSoftwareFoundation.Python.3.9_qbz5n2kfra8p0\\LocalCache\\local-packages\\Python39\\site-packages\\pandas\\util\\_decorators.py:311\u001b[0m, in \u001b[0;36mdeprecate_nonkeyword_arguments.<locals>.decorate.<locals>.wrapper\u001b[1;34m(*args, **kwargs)\u001b[0m\n\u001b[0;32m    <a href='file:///c%3A/Users/noctu/AppData/Local/Packages/PythonSoftwareFoundation.Python.3.9_qbz5n2kfra8p0/LocalCache/local-packages/Python39/site-packages/pandas/util/_decorators.py?line=304'>305</a>\u001b[0m \u001b[39mif\u001b[39;00m \u001b[39mlen\u001b[39m(args) \u001b[39m>\u001b[39m num_allow_args:\n\u001b[0;32m    <a href='file:///c%3A/Users/noctu/AppData/Local/Packages/PythonSoftwareFoundation.Python.3.9_qbz5n2kfra8p0/LocalCache/local-packages/Python39/site-packages/pandas/util/_decorators.py?line=305'>306</a>\u001b[0m     warnings\u001b[39m.\u001b[39mwarn(\n\u001b[0;32m    <a href='file:///c%3A/Users/noctu/AppData/Local/Packages/PythonSoftwareFoundation.Python.3.9_qbz5n2kfra8p0/LocalCache/local-packages/Python39/site-packages/pandas/util/_decorators.py?line=306'>307</a>\u001b[0m         msg\u001b[39m.\u001b[39mformat(arguments\u001b[39m=\u001b[39marguments),\n\u001b[0;32m    <a href='file:///c%3A/Users/noctu/AppData/Local/Packages/PythonSoftwareFoundation.Python.3.9_qbz5n2kfra8p0/LocalCache/local-packages/Python39/site-packages/pandas/util/_decorators.py?line=307'>308</a>\u001b[0m         \u001b[39mFutureWarning\u001b[39;00m,\n\u001b[0;32m    <a href='file:///c%3A/Users/noctu/AppData/Local/Packages/PythonSoftwareFoundation.Python.3.9_qbz5n2kfra8p0/LocalCache/local-packages/Python39/site-packages/pandas/util/_decorators.py?line=308'>309</a>\u001b[0m         stacklevel\u001b[39m=\u001b[39mstacklevel,\n\u001b[0;32m    <a href='file:///c%3A/Users/noctu/AppData/Local/Packages/PythonSoftwareFoundation.Python.3.9_qbz5n2kfra8p0/LocalCache/local-packages/Python39/site-packages/pandas/util/_decorators.py?line=309'>310</a>\u001b[0m     )\n\u001b[1;32m--> <a href='file:///c%3A/Users/noctu/AppData/Local/Packages/PythonSoftwareFoundation.Python.3.9_qbz5n2kfra8p0/LocalCache/local-packages/Python39/site-packages/pandas/util/_decorators.py?line=310'>311</a>\u001b[0m \u001b[39mreturn\u001b[39;00m func(\u001b[39m*\u001b[39margs, \u001b[39m*\u001b[39m\u001b[39m*\u001b[39mkwargs)\n",
      "\u001b[1;31mTypeError\u001b[0m: sort_values() missing 1 required positional argument: 'by'"
     ]
    }
   ],
   "source": [
    "import pandas as pd\n",
    "import os\n",
    "encoding = 'latin1'\n",
    "\n",
    "upath = os.path.expanduser('C:/Users/noctu/Desktop/1/1.2/ch02/movielens/users.dat')\n",
    "rpath = os.path.expanduser('C:/Users/noctu/Desktop/1/1.2/ch02/movielens/ratings.dat')\n",
    "mpath = os.path.expanduser('C:/Users/noctu/Desktop/1/1.2/ch02/movielens/movies.dat')\n",
    "\n",
    "unames = ['user_id', 'gender', 'age', 'occupation', 'zip']\n",
    "rnames = ['user_id', 'movie_id', 'rating', 'timestamp']\n",
    "mnames = ['movie_id', 'title', 'genres']\n",
    "\n",
    "users = pd.read_csv(upath, sep='::', header=None, names=unames, encoding=encoding)\n",
    "ratings = pd.read_csv(rpath, sep='::', header=None, names=rnames, encoding=encoding)\n",
    "movies = pd.read_csv(mpath, sep='::', header=None, names=mnames, encoding=encoding )\n",
    "\n",
    "data = pd.merge(pd.merge(ratings, users), movies)\n",
    "data\n",
    "\n",
    "mean_ratings = mean_ratings = data.pivot_table('rating', index='title',\n",
    "                                               columns='gender', aggfunc='mean')\n",
    "mean_ratings[:5]\n",
    "\n",
    "ratings_by_title = data.groupby('title').size()\n",
    "ratings_by_title[:10]\n",
    "\n",
    "active_titles = ratings_by_title.index[ratings_by_title >= 250]\n",
    "active_titles\n",
    "\n",
    "mean_ratings = mean_ratings.loc[active_titles]\n",
    "mean_ratings\n",
    "\n",
    "top_female_ratings = mean_ratings.sort_index(ascending=False)  #by='F'\n",
    "top_female_ratings[:10]\n",
    "\n",
    "mean_ratings['diff'] = mean_ratings['M'] - mean_ratings['F']\n",
    "sorted_by_diff = mean_ratings.sort_values(by='diff')  #by='diff'\n",
    "sorted_by_diff[:15]\n",
    "\n",
    "sorted_by_diff[::-1][:15]"
   ]
  },
  {
   "cell_type": "markdown",
   "metadata": {},
   "source": [
    "2\n"
   ]
  },
  {
   "cell_type": "code",
   "execution_count": 15,
   "metadata": {},
   "outputs": [
    {
     "ename": "AttributeError",
     "evalue": "'DataFrame' object has no attribute 'name'",
     "output_type": "error",
     "traceback": [
      "\u001b[1;31m---------------------------------------------------------------------------\u001b[0m",
      "\u001b[1;31mAttributeError\u001b[0m                            Traceback (most recent call last)",
      "\u001b[1;32mc:\\Users\\noctu\\Desktop\\python\\파이썬_데이터 분석_연습1.ipynb Cell 4'\u001b[0m in \u001b[0;36m<module>\u001b[1;34m\u001b[0m\n\u001b[0;32m     <a href='vscode-notebook-cell:/c%3A/Users/noctu/Desktop/python/%ED%8C%8C%EC%9D%B4%EC%8D%AC_%EB%8D%B0%EC%9D%B4%ED%84%B0%20%EB%B6%84%EC%84%9D_%EC%97%B0%EC%8A%B51.ipynb#ch0000003?line=88'>89</a>\u001b[0m \u001b[39m# diversity.plot(title=\"Number of popular names in top 50%\")\u001b[39;00m\n\u001b[0;32m     <a href='vscode-notebook-cell:/c%3A/Users/noctu/Desktop/python/%ED%8C%8C%EC%9D%B4%EC%8D%AC_%EB%8D%B0%EC%9D%B4%ED%84%B0%20%EB%B6%84%EC%84%9D_%EC%97%B0%EC%8A%B51.ipynb#ch0000003?line=90'>91</a>\u001b[0m get_last_letter \u001b[39m=\u001b[39m \u001b[39mlambda\u001b[39;00m x: x[\u001b[39m-\u001b[39m\u001b[39m1\u001b[39m]\n\u001b[1;32m---> <a href='vscode-notebook-cell:/c%3A/Users/noctu/Desktop/python/%ED%8C%8C%EC%9D%B4%EC%8D%AC_%EB%8D%B0%EC%9D%B4%ED%84%B0%20%EB%B6%84%EC%84%9D_%EC%97%B0%EC%8A%B51.ipynb#ch0000003?line=91'>92</a>\u001b[0m last_letters \u001b[39m=\u001b[39m names\u001b[39m.\u001b[39;49mname\u001b[39m.\u001b[39mmap(get_last_letter)\n\u001b[0;32m     <a href='vscode-notebook-cell:/c%3A/Users/noctu/Desktop/python/%ED%8C%8C%EC%9D%B4%EC%8D%AC_%EB%8D%B0%EC%9D%B4%ED%84%B0%20%EB%B6%84%EC%84%9D_%EC%97%B0%EC%8A%B51.ipynb#ch0000003?line=92'>93</a>\u001b[0m last_letters\u001b[39m.\u001b[39mname\u001b[39m=\u001b[39m \u001b[39m'\u001b[39m\u001b[39mlast_letter\u001b[39m\u001b[39m'\u001b[39m\n\u001b[0;32m     <a href='vscode-notebook-cell:/c%3A/Users/noctu/Desktop/python/%ED%8C%8C%EC%9D%B4%EC%8D%AC_%EB%8D%B0%EC%9D%B4%ED%84%B0%20%EB%B6%84%EC%84%9D_%EC%97%B0%EC%8A%B51.ipynb#ch0000003?line=94'>95</a>\u001b[0m table \u001b[39m=\u001b[39m names\u001b[39m.\u001b[39mpivot_table(\u001b[39m'\u001b[39m\u001b[39mbirths\u001b[39m\u001b[39m'\u001b[39m, index\u001b[39m=\u001b[39mlast_letters,\n\u001b[0;32m     <a href='vscode-notebook-cell:/c%3A/Users/noctu/Desktop/python/%ED%8C%8C%EC%9D%B4%EC%8D%AC_%EB%8D%B0%EC%9D%B4%ED%84%B0%20%EB%B6%84%EC%84%9D_%EC%97%B0%EC%8A%B51.ipynb#ch0000003?line=95'>96</a>\u001b[0m                           columns\u001b[39m=\u001b[39m[\u001b[39m'\u001b[39m\u001b[39msex\u001b[39m\u001b[39m'\u001b[39m, \u001b[39m'\u001b[39m\u001b[39myear\u001b[39m\u001b[39m'\u001b[39m], aggfunc\u001b[39m=\u001b[39m\u001b[39msum\u001b[39m)\n",
      "File \u001b[1;32m~\\AppData\\Local\\Packages\\PythonSoftwareFoundation.Python.3.9_qbz5n2kfra8p0\\LocalCache\\local-packages\\Python39\\site-packages\\pandas\\core\\generic.py:5583\u001b[0m, in \u001b[0;36mNDFrame.__getattr__\u001b[1;34m(self, name)\u001b[0m\n\u001b[0;32m   <a href='file:///c%3A/Users/noctu/AppData/Local/Packages/PythonSoftwareFoundation.Python.3.9_qbz5n2kfra8p0/LocalCache/local-packages/Python39/site-packages/pandas/core/generic.py?line=5575'>5576</a>\u001b[0m \u001b[39mif\u001b[39;00m (\n\u001b[0;32m   <a href='file:///c%3A/Users/noctu/AppData/Local/Packages/PythonSoftwareFoundation.Python.3.9_qbz5n2kfra8p0/LocalCache/local-packages/Python39/site-packages/pandas/core/generic.py?line=5576'>5577</a>\u001b[0m     name \u001b[39mnot\u001b[39;00m \u001b[39min\u001b[39;00m \u001b[39mself\u001b[39m\u001b[39m.\u001b[39m_internal_names_set\n\u001b[0;32m   <a href='file:///c%3A/Users/noctu/AppData/Local/Packages/PythonSoftwareFoundation.Python.3.9_qbz5n2kfra8p0/LocalCache/local-packages/Python39/site-packages/pandas/core/generic.py?line=5577'>5578</a>\u001b[0m     \u001b[39mand\u001b[39;00m name \u001b[39mnot\u001b[39;00m \u001b[39min\u001b[39;00m \u001b[39mself\u001b[39m\u001b[39m.\u001b[39m_metadata\n\u001b[0;32m   <a href='file:///c%3A/Users/noctu/AppData/Local/Packages/PythonSoftwareFoundation.Python.3.9_qbz5n2kfra8p0/LocalCache/local-packages/Python39/site-packages/pandas/core/generic.py?line=5578'>5579</a>\u001b[0m     \u001b[39mand\u001b[39;00m name \u001b[39mnot\u001b[39;00m \u001b[39min\u001b[39;00m \u001b[39mself\u001b[39m\u001b[39m.\u001b[39m_accessors\n\u001b[0;32m   <a href='file:///c%3A/Users/noctu/AppData/Local/Packages/PythonSoftwareFoundation.Python.3.9_qbz5n2kfra8p0/LocalCache/local-packages/Python39/site-packages/pandas/core/generic.py?line=5579'>5580</a>\u001b[0m     \u001b[39mand\u001b[39;00m \u001b[39mself\u001b[39m\u001b[39m.\u001b[39m_info_axis\u001b[39m.\u001b[39m_can_hold_identifiers_and_holds_name(name)\n\u001b[0;32m   <a href='file:///c%3A/Users/noctu/AppData/Local/Packages/PythonSoftwareFoundation.Python.3.9_qbz5n2kfra8p0/LocalCache/local-packages/Python39/site-packages/pandas/core/generic.py?line=5580'>5581</a>\u001b[0m ):\n\u001b[0;32m   <a href='file:///c%3A/Users/noctu/AppData/Local/Packages/PythonSoftwareFoundation.Python.3.9_qbz5n2kfra8p0/LocalCache/local-packages/Python39/site-packages/pandas/core/generic.py?line=5581'>5582</a>\u001b[0m     \u001b[39mreturn\u001b[39;00m \u001b[39mself\u001b[39m[name]\n\u001b[1;32m-> <a href='file:///c%3A/Users/noctu/AppData/Local/Packages/PythonSoftwareFoundation.Python.3.9_qbz5n2kfra8p0/LocalCache/local-packages/Python39/site-packages/pandas/core/generic.py?line=5582'>5583</a>\u001b[0m \u001b[39mreturn\u001b[39;00m \u001b[39mobject\u001b[39;49m\u001b[39m.\u001b[39;49m\u001b[39m__getattribute__\u001b[39;49m(\u001b[39mself\u001b[39;49m, name)\n",
      "\u001b[1;31mAttributeError\u001b[0m: 'DataFrame' object has no attribute 'name'"
     ]
    }
   ],
   "source": [
    "import numpy as np\n",
    "import pandas as pd\n",
    "\n",
    "names1880 = pd.read_csv('C:/Users/noctu/Desktop/1/1.2/ch02/names/yob1880.txt',\n",
    "                        names = ['names', 'sex', 'births'])\n",
    "\n",
    "names1880.groupby('sex').births.sum()\n",
    "\n",
    "years = range(1880, 2011)\n",
    "\n",
    "pieces = []\n",
    "columns = ['names', 'sex', 'births']\n",
    "\n",
    "for year in years:\n",
    "    path = 'C:/Users/noctu/Desktop/1/1.2/ch02/names/yob%d.txt' % year\n",
    "    frame = pd.read_csv(path, names=columns)\n",
    "    \n",
    "    frame['year'] = year\n",
    "    pieces.append(frame)\n",
    "    \n",
    "names = pd.concat(pieces, ignore_index=True) \n",
    "\n",
    "total_births = names.pivot_table('births', index='year',\n",
    "                                 columns='sex', aggfunc=sum)\n",
    "total_births.tail()\n",
    "\n",
    "# total_births.plot(title='Total briths by sex and year')\n",
    "\n",
    "def add_prop(group):\n",
    "    births = group.births.astype(float)\n",
    "    group['prop'] = births / births.sum()\n",
    "    return group\n",
    "names = names.groupby(['year', 'sex']).apply(add_prop)\n",
    "\n",
    "np.allclose(names.groupby(['year', 'sex']).prop.sum(), 1)\n",
    "\n",
    "def get_top1000(group):\n",
    "    return group.sort_values(by='births', ascending=False)[:1000]\n",
    "\n",
    "grouped = names.groupby(['year', 'sex'])\n",
    "top1000 = grouped.apply(get_top1000)\n",
    "top1000.index = np.arange(len(top1000))\n",
    "\n",
    "pieces = []\n",
    "for year, group in names.groupby(['year', 'sex']):\n",
    "    pieces.append(group.sort_values(by='births', ascending=False)[:1000])\n",
    "top1000 = pd.concat(pieces, ignore_index=True)\n",
    "\n",
    "# top1000\n",
    "\n",
    "boys = top1000[top1000.sex == 'M']\n",
    "girls = top1000[top1000.sex == 'F']\n",
    "\n",
    "total_births = top1000.pivot_table('births', index='year',\n",
    "                                 columns='names', aggfunc=sum)\n",
    "\n",
    "# total_births.info()\n",
    "\n",
    "subset = total_births[['John', 'Harry', 'Mary', 'Marilyn']]\n",
    "\n",
    "# subset.plot(subplots=True, figsize=(12, 10), grid=False,\n",
    "#             title=\"Number of births per year\")\n",
    "\n",
    "table = top1000.pivot_table('prop', index='year',\n",
    "                            columns= 'sex', aggfunc=sum)\n",
    "\n",
    "# table.plot(title='Sum of top1000.prop by year  and sex',\n",
    "#            yticks=np.linspace(0, 1.2, 13), xticks=range(1880, 2020, 10))\n",
    "\n",
    "# df = boys[boys.year == 2010]\n",
    "# df\n",
    "# prop_cumsum = df.sort_values(by='prop', ascending=False).prop.cumsum()\n",
    "# prop_cumsum[:10]\n",
    "# prop_cumsum.values.searchsorted(0.5)\n",
    "\n",
    "\n",
    "df = boys[boys.year == 1900]\n",
    "in1900 = df.sort_values(by='prop', ascending=False).prop.cumsum()\n",
    "# in1900.searchsorted(0.5) + 1\n",
    "\n",
    "def get_quantitle_count(group, q=0.5):\n",
    "    group = group.sort_values(by='prop', ascending=False)\n",
    "    return group.prop.cumsum().values.searchsorted(q) + 1\n",
    "diversity = top1000.groupby(['year', 'sex']).apply(get_quantitle_count)\n",
    "diversity = diversity.unstack('sex')\n",
    "\n",
    "diversity.head()\n",
    "\n",
    "# diversity.plot(title=\"Number of popular names in top 50%\")\n",
    "\n",
    "get_last_letter = lambda x: x[-1]\n",
    "last_letters = names.name.map(get_last_letter)\n",
    "last_letters.name= 'last_letter'\n",
    "\n",
    "table = names.pivot_table('births', index=last_letters,\n",
    "                          columns=['sex', 'year'], aggfunc=sum)\n",
    "\n",
    "subtable = table.reindex(columns=[1910, 1960, 2010], level='year')\n",
    "subtable.head()"
   ]
  }
 ],
 "metadata": {
  "interpreter": {
   "hash": "97e354f0cdccdcfe53b1703901d26b2100919c25493c36c52dd5015210378920"
  },
  "kernelspec": {
   "display_name": "Python 3.9.10 64-bit (windows store)",
   "language": "python",
   "name": "python3"
  },
  "language_info": {
   "codemirror_mode": {
    "name": "ipython",
    "version": 3
   },
   "file_extension": ".py",
   "mimetype": "text/x-python",
   "name": "python",
   "nbconvert_exporter": "python",
   "pygments_lexer": "ipython3",
   "version": "3.9.10"
  },
  "orig_nbformat": 4
 },
 "nbformat": 4,
 "nbformat_minor": 2
}
